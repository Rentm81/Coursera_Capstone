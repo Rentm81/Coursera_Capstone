{
    "nbformat_minor": 1, 
    "cells": [
        {
            "source": "#\n25-02-2019\n\n\nDrugstores in Santiago\n\n The idea of choice is the analysis of the amount and distribution of pharmacies in the city of Santiago, the capital of Chile, according \nto the latest statistics only 43% of the total pharmacy in the country correspond to the so-called \"Chain Pharmacies\" , these pharmacies \nwith large \n chains of retal composed by 3 companies (Green Cross, Salcobrand and Ahumada).\n \n  These companies have been accused and sanctioned previously for collusion and monopolistic behavior, the purpose of this exercise \nis to implement data science tools to study not only the quantity but the distribution of pharmacies in the commune with the largest\nfloating population in the country.\n\n For these purposes we use information of:\n\n1.\tFoursquare.\nhttps://es.foursquare.com/explore?mode=url&near=Santiago%20de%20Chile%2C%20Metropolitana%20de%20Santiago%20de%20Chile%2C%20Chile&nearGeoId=72057594041799272&q=farmacia\n2.\tFarmanet.\nhttps://farmanet.minsal.cl/maps/#\n\n Main tools used:\n\nA.\tGeoreferencing\nB.\tClustering\n\nBackground from:\n\u201chttps://www.latercera.com/pulso/noticia/grandes-cadenas-farmacias-concentran-43-los-locales/230970/\u201d\n", 
            "cell_type": "markdown", 
            "metadata": {
                "collapsed": true
            }
        }, 
        {
            "source": "", 
            "cell_type": "code", 
            "metadata": {}, 
            "outputs": [], 
            "execution_count": null
        }
    ], 
    "metadata": {
        "kernelspec": {
            "display_name": "Python 3.5", 
            "name": "python3", 
            "language": "python"
        }, 
        "language_info": {
            "mimetype": "text/x-python", 
            "nbconvert_exporter": "python", 
            "version": "3.5.5", 
            "name": "python", 
            "file_extension": ".py", 
            "pygments_lexer": "ipython3", 
            "codemirror_mode": {
                "version": 3, 
                "name": "ipython"
            }
        }
    }, 
    "nbformat": 4
}